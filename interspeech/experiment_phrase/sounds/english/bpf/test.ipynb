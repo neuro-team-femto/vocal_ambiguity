{
 "cells": [
  {
   "cell_type": "code",
   "execution_count": 66,
   "metadata": {},
   "outputs": [],
   "source": [
    "import json\n",
    "import ast\n",
    "import pandas as pd\n",
    "import glob"
   ]
  },
  {
   "cell_type": "code",
   "execution_count": 76,
   "metadata": {},
   "outputs": [],
   "source": [
    "result_files = glob.glob(\"/home/rosie/Documents/vocal_ambiguity/interspeech/experiment_word/sounds/english/bpf/\"+\"*.json\")\n",
    "for result_file in result_files: \n",
    "  f = open(result_file)\n",
    "  data = json.load(f)\n",
    "  # clean the pitch and convert to actual string\n",
    "  string_pitch = data[\"pitch\"]\n",
    "  string_pitch = \", \".join(string_pitch.split())\n",
    "  string_pitch = string_pitch.replace(\"[,\", \"[\" )\n",
    "  string_pitch_list = ast.literal_eval(string_pitch)\n",
    "\n",
    "  # clean the stretch and convert to actual string\n",
    "  string_stretch = data[\"stretch\"]\n",
    "  string_stretch = \", \".join(string_stretch.split())\n",
    "  string_stretch = string_stretch.replace(\"[,\", \"[\" )\n",
    "  string_stretch_list = ast.literal_eval(string_stretch)\n",
    "\n",
    "  data_pitch = pd.DataFrame(string_pitch_list, columns=('segment', 'pitch'))\n",
    "  data_stretch = pd.DataFrame(string_stretch_list, columns=('segment', 'stretch'))\n",
    "  clean_data = pd.concat([data_pitch, data_stretch], axis=1).T.drop_duplicates().T\n",
    "  clean_data.to_csv(result_file.replace(\".json\", '.csv'), index=False)"
   ]
  }
 ],
 "metadata": {
  "kernelspec": {
   "display_name": "venv",
   "language": "python",
   "name": "python3"
  },
  "language_info": {
   "codemirror_mode": {
    "name": "ipython",
    "version": 3
   },
   "file_extension": ".py",
   "mimetype": "text/x-python",
   "name": "python",
   "nbconvert_exporter": "python",
   "pygments_lexer": "ipython3",
   "version": "3.11.6"
  }
 },
 "nbformat": 4,
 "nbformat_minor": 2
}
