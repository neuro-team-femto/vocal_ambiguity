{
 "cells": [
  {
   "cell_type": "code",
   "execution_count": null,
   "metadata": {},
   "outputs": [],
   "source": [
    "import cleese_stim as cleese\n",
    "from cleese_stim.engines import PhaseVocoder\n",
    "\n",
    "from IPython.display import Markdown, display, Audio\n",
    "from IPython.core.interactiveshell import InteractiveShell\n",
    "InteractiveShell.ast_node_interactivity = \"all\"\n",
    "\n",
    "import os"
   ]
  },
  {
   "cell_type": "code",
   "execution_count": null,
   "metadata": {},
   "outputs": [],
   "source": [
    "input_file = \"./bottle_feel.wav\"\n",
    "config_file = \"./tutorial/configs/random_timbre_profile.toml\"\n",
    "\n",
    "# read input wavefile, and extract pitch for display (unnecessary for cleese.process below)\n",
    "wave_in, sr, _ = PhaseVocoder.wavRead(input_file)\n",
    "\n",
    "#display(Markdown(\"Original file:\"))\n",
    "#Audio(data=wave_in, rate=sr)\n",
    "\n",
    "# CLEESE\n",
    "wave_out,bpf_out = cleese.process_data(PhaseVocoder, wave_in, config_file, sample_rate=sr)\n",
    "\n",
    "# display transformed file\n",
    "#display(Markdown(\"Transformed file:\"))\n",
    "#Audio(data=wave_out, rate=sr)\n",
    "file_name = os.path.splitext(os.path.basename(input_file))[0]+'_out.wav'\n",
    "PhaseVocoder.wavWrite(wave_out,file_name,sr)"
   ]
  }
 ],
 "metadata": {
  "kernelspec": {
   "display_name": "venv_311",
   "language": "python",
   "name": "python3"
  },
  "language_info": {
   "name": "python",
   "version": "3.11.3"
  },
  "orig_nbformat": 4
 },
 "nbformat": 4,
 "nbformat_minor": 2
}
